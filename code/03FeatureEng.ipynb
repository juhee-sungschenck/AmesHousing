{
 "cells": [
  {
   "cell_type": "code",
   "execution_count": 1,
   "metadata": {},
   "outputs": [],
   "source": [
    "# import libraries\n",
    "\n",
    "import pandas as pd\n",
    "import matplotlib.pyplot as plt\n",
    "import seaborn as sns"
   ]
  },
  {
   "cell_type": "code",
   "execution_count": 2,
   "metadata": {},
   "outputs": [],
   "source": [
    "# read in the datasets\n",
    "\n",
    "house = pd.read_csv('../datasets/train_clean.csv', index_col = 'id')\n",
    "test = pd.read_csv('../datasets/test_clean.csv', index_col = 'id')"
   ]
  },
  {
   "cell_type": "code",
   "execution_count": 3,
   "metadata": {},
   "outputs": [
    {
     "data": {
      "text/html": [
       "<div>\n",
       "<style scoped>\n",
       "    .dataframe tbody tr th:only-of-type {\n",
       "        vertical-align: middle;\n",
       "    }\n",
       "\n",
       "    .dataframe tbody tr th {\n",
       "        vertical-align: top;\n",
       "    }\n",
       "\n",
       "    .dataframe thead th {\n",
       "        text-align: right;\n",
       "    }\n",
       "</style>\n",
       "<table border=\"1\" class=\"dataframe\">\n",
       "  <thead>\n",
       "    <tr style=\"text-align: right;\">\n",
       "      <th></th>\n",
       "      <th>pid</th>\n",
       "      <th>ms_subclass</th>\n",
       "      <th>ms_zoning</th>\n",
       "      <th>lot_frontage</th>\n",
       "      <th>lot_area</th>\n",
       "      <th>street</th>\n",
       "      <th>lot_shape</th>\n",
       "      <th>land_contour</th>\n",
       "      <th>utilities</th>\n",
       "      <th>lot_config</th>\n",
       "      <th>...</th>\n",
       "      <th>screen_porch</th>\n",
       "      <th>pool_area</th>\n",
       "      <th>misc_val</th>\n",
       "      <th>mo_sold</th>\n",
       "      <th>yr_sold</th>\n",
       "      <th>sale_type</th>\n",
       "      <th>saleprice</th>\n",
       "      <th>total_sf</th>\n",
       "      <th>age_sale</th>\n",
       "      <th>remod_age</th>\n",
       "    </tr>\n",
       "    <tr>\n",
       "      <th>id</th>\n",
       "      <th></th>\n",
       "      <th></th>\n",
       "      <th></th>\n",
       "      <th></th>\n",
       "      <th></th>\n",
       "      <th></th>\n",
       "      <th></th>\n",
       "      <th></th>\n",
       "      <th></th>\n",
       "      <th></th>\n",
       "      <th></th>\n",
       "      <th></th>\n",
       "      <th></th>\n",
       "      <th></th>\n",
       "      <th></th>\n",
       "      <th></th>\n",
       "      <th></th>\n",
       "      <th></th>\n",
       "      <th></th>\n",
       "      <th></th>\n",
       "      <th></th>\n",
       "    </tr>\n",
       "  </thead>\n",
       "  <tbody>\n",
       "    <tr>\n",
       "      <th>109</th>\n",
       "      <td>533352170</td>\n",
       "      <td>60</td>\n",
       "      <td>RL</td>\n",
       "      <td>70.0</td>\n",
       "      <td>13517</td>\n",
       "      <td>Pave</td>\n",
       "      <td>IR1</td>\n",
       "      <td>Lvl</td>\n",
       "      <td>AllPub</td>\n",
       "      <td>CulDSac</td>\n",
       "      <td>...</td>\n",
       "      <td>0</td>\n",
       "      <td>0</td>\n",
       "      <td>0</td>\n",
       "      <td>3</td>\n",
       "      <td>2010</td>\n",
       "      <td>WD</td>\n",
       "      <td>130500</td>\n",
       "      <td>2204.0</td>\n",
       "      <td>34</td>\n",
       "      <td>5</td>\n",
       "    </tr>\n",
       "    <tr>\n",
       "      <th>544</th>\n",
       "      <td>531379050</td>\n",
       "      <td>60</td>\n",
       "      <td>RL</td>\n",
       "      <td>43.0</td>\n",
       "      <td>11492</td>\n",
       "      <td>Pave</td>\n",
       "      <td>IR1</td>\n",
       "      <td>Lvl</td>\n",
       "      <td>AllPub</td>\n",
       "      <td>CulDSac</td>\n",
       "      <td>...</td>\n",
       "      <td>0</td>\n",
       "      <td>0</td>\n",
       "      <td>0</td>\n",
       "      <td>4</td>\n",
       "      <td>2009</td>\n",
       "      <td>WD</td>\n",
       "      <td>220000</td>\n",
       "      <td>3035.0</td>\n",
       "      <td>13</td>\n",
       "      <td>12</td>\n",
       "    </tr>\n",
       "  </tbody>\n",
       "</table>\n",
       "<p>2 rows × 79 columns</p>\n",
       "</div>"
      ],
      "text/plain": [
       "           pid  ms_subclass ms_zoning  lot_frontage  lot_area street  \\\n",
       "id                                                                     \n",
       "109  533352170           60        RL          70.0     13517   Pave   \n",
       "544  531379050           60        RL          43.0     11492   Pave   \n",
       "\n",
       "    lot_shape land_contour utilities lot_config  ... screen_porch pool_area  \\\n",
       "id                                               ...                          \n",
       "109       IR1          Lvl    AllPub    CulDSac  ...            0         0   \n",
       "544       IR1          Lvl    AllPub    CulDSac  ...            0         0   \n",
       "\n",
       "    misc_val mo_sold yr_sold sale_type  saleprice  total_sf  age_sale  \\\n",
       "id                                                                      \n",
       "109        0       3    2010       WD      130500    2204.0        34   \n",
       "544        0       4    2009       WD      220000    3035.0        13   \n",
       "\n",
       "     remod_age  \n",
       "id              \n",
       "109          5  \n",
       "544         12  \n",
       "\n",
       "[2 rows x 79 columns]"
      ]
     },
     "execution_count": 3,
     "metadata": {},
     "output_type": "execute_result"
    }
   ],
   "source": [
    "house.head(2)"
   ]
  },
  {
   "cell_type": "code",
   "execution_count": 4,
   "metadata": {},
   "outputs": [],
   "source": [
    "# add dummy variables for non-numeric fields.\n",
    "\n",
    "variables = ['ms_zoning', 'street', 'lot_shape', 'land_contour', 'lot_config', 'land_slope',\n",
    "             'neighborhood', 'bldg_type', 'house_style', 'foundation', 'condition_1', 'condition_2',\n",
    "             'bsmt_qual', 'bsmt_cond', 'garage_type', 'kitchen_qual']\n",
    "\n",
    "house_dummies = pd.get_dummies(house[variables], drop_first = True)\n",
    "test_dummies = pd.get_dummies(test[variables], drop_first = True)"
   ]
  },
  {
   "cell_type": "code",
   "execution_count": 6,
   "metadata": {},
   "outputs": [
    {
     "name": "stdout",
     "output_type": "stream",
     "text": [
      "Columns missing from House: \n",
      "['ms_zoning_RH', 'ms_zoning_I (all)', 'kitchen_qual_Po', 'ms_zoning_FV', 'bsmt_qual_Po']\n",
      "\n",
      "Columns missing from Test: \n",
      "['condition_2_RRNn', 'bsmt_cond_Po', 'condition_2_RRAn', 'neighborhood_Landmrk', 'condition_2_Feedr', 'condition_2_PosN', 'bsmt_cond_Fa', 'condition_2_RRAe', 'neighborhood_GrnHill']\n"
     ]
    }
   ],
   "source": [
    "## find the columns that are in test, but are not in train\n",
    "\n",
    "missing_columns_house = list(set(test_dummies) - set(house_dummies))\n",
    "\n",
    "## find the columns that are in train, but are not in test\n",
    "\n",
    "missing_columns_test  = list(set(house_dummies) - set(test_dummies))\n",
    "\n",
    "print(f\"Columns missing from House: \\n{missing_columns_house}\")\n",
    "print(f\"\\nColumns missing from Test: \\n{missing_columns_test}\")"
   ]
  },
  {
   "cell_type": "code",
   "execution_count": 7,
   "metadata": {},
   "outputs": [],
   "source": [
    "## add the missing columns to the test_dummies dataframe\n",
    "### since no rows in the test dataset have values for these new columns, fill them with 0's\n",
    "\n",
    "for col in missing_columns_house:\n",
    "    house_dummies[col] = 0\n",
    "\n",
    "for col in missing_columns_test:\n",
    "    test_dummies[col] = 0"
   ]
  },
  {
   "cell_type": "code",
   "execution_count": 8,
   "metadata": {},
   "outputs": [
    {
     "data": {
      "text/plain": [
       "set()"
      ]
     },
     "execution_count": 8,
     "metadata": {},
     "output_type": "execute_result"
    }
   ],
   "source": [
    "## check to see that it worked\n",
    "\n",
    "set(house_dummies) - set(test_dummies)"
   ]
  },
  {
   "cell_type": "code",
   "execution_count": 9,
   "metadata": {},
   "outputs": [
    {
     "data": {
      "text/plain": [
       "Index(['ms_zoning_RL', 'ms_zoning_RM', 'street_Pave', 'lot_shape_IR2',\n",
       "       'lot_shape_IR3', 'lot_shape_Reg', 'land_contour_HLS',\n",
       "       'land_contour_Low', 'land_contour_Lvl', 'lot_config_CulDSac',\n",
       "       'lot_config_FR2', 'lot_config_FR3', 'lot_config_Inside',\n",
       "       'land_slope_Mod', 'land_slope_Sev', 'neighborhood_Blueste',\n",
       "       'neighborhood_BrDale', 'neighborhood_BrkSide', 'neighborhood_ClearCr',\n",
       "       'neighborhood_CollgCr', 'neighborhood_Crawfor', 'neighborhood_Edwards',\n",
       "       'neighborhood_Gilbert', 'neighborhood_Greens', 'neighborhood_GrnHill',\n",
       "       'neighborhood_IDOTRR', 'neighborhood_Landmrk', 'neighborhood_MeadowV',\n",
       "       'neighborhood_Mitchel', 'neighborhood_NAmes', 'neighborhood_NPkVill',\n",
       "       'neighborhood_NWAmes', 'neighborhood_NoRidge', 'neighborhood_NridgHt',\n",
       "       'neighborhood_OldTown', 'neighborhood_SWISU', 'neighborhood_Sawyer',\n",
       "       'neighborhood_SawyerW', 'neighborhood_Somerst', 'neighborhood_StoneBr',\n",
       "       'neighborhood_Timber', 'neighborhood_Veenker', 'bldg_type_2fmCon',\n",
       "       'bldg_type_Duplex', 'bldg_type_Twnhs', 'bldg_type_TwnhsE',\n",
       "       'house_style_1.5Unf', 'house_style_1Story', 'house_style_2.5Fin',\n",
       "       'house_style_2.5Unf', 'house_style_2Story', 'house_style_SFoyer',\n",
       "       'house_style_SLvl', 'foundation_CBlock', 'foundation_PConc',\n",
       "       'foundation_Slab', 'foundation_Stone', 'foundation_Wood',\n",
       "       'condition_1_Feedr', 'condition_1_Norm', 'condition_1_PosA',\n",
       "       'condition_1_PosN', 'condition_1_RRAe', 'condition_1_RRAn',\n",
       "       'condition_1_RRNe', 'condition_1_RRNn', 'condition_2_Feedr',\n",
       "       'condition_2_Norm', 'condition_2_PosA', 'condition_2_PosN',\n",
       "       'condition_2_RRAe', 'condition_2_RRAn', 'condition_2_RRNn',\n",
       "       'bsmt_qual_Fa', 'bsmt_qual_Gd', 'bsmt_qual_TA', 'bsmt_cond_Fa',\n",
       "       'bsmt_cond_Gd', 'bsmt_cond_Po', 'bsmt_cond_TA', 'garage_type_Attchd',\n",
       "       'garage_type_Basment', 'garage_type_BuiltIn', 'garage_type_CarPort',\n",
       "       'garage_type_Detchd', 'kitchen_qual_Fa', 'kitchen_qual_Gd',\n",
       "       'kitchen_qual_TA', 'ms_zoning_RH', 'ms_zoning_I (all)',\n",
       "       'kitchen_qual_Po', 'ms_zoning_FV', 'bsmt_qual_Po'],\n",
       "      dtype='object')"
      ]
     },
     "execution_count": 9,
     "metadata": {},
     "output_type": "execute_result"
    }
   ],
   "source": [
    "## take a look at all the dummy columns created\n",
    "\n",
    "house_dummies.columns"
   ]
  },
  {
   "cell_type": "code",
   "execution_count": 10,
   "metadata": {},
   "outputs": [
    {
     "data": {
      "text/plain": [
       "Index(['ms_zoning_FV', 'ms_zoning_I (all)', 'ms_zoning_RH', 'ms_zoning_RL',\n",
       "       'ms_zoning_RM', 'street_Pave', 'lot_shape_IR2', 'lot_shape_IR3',\n",
       "       'lot_shape_Reg', 'land_contour_HLS', 'land_contour_Low',\n",
       "       'land_contour_Lvl', 'lot_config_CulDSac', 'lot_config_FR2',\n",
       "       'lot_config_FR3', 'lot_config_Inside', 'land_slope_Mod',\n",
       "       'land_slope_Sev', 'neighborhood_Blueste', 'neighborhood_BrDale',\n",
       "       'neighborhood_BrkSide', 'neighborhood_ClearCr', 'neighborhood_CollgCr',\n",
       "       'neighborhood_Crawfor', 'neighborhood_Edwards', 'neighborhood_Gilbert',\n",
       "       'neighborhood_Greens', 'neighborhood_IDOTRR', 'neighborhood_MeadowV',\n",
       "       'neighborhood_Mitchel', 'neighborhood_NAmes', 'neighborhood_NPkVill',\n",
       "       'neighborhood_NWAmes', 'neighborhood_NoRidge', 'neighborhood_NridgHt',\n",
       "       'neighborhood_OldTown', 'neighborhood_SWISU', 'neighborhood_Sawyer',\n",
       "       'neighborhood_SawyerW', 'neighborhood_Somerst', 'neighborhood_StoneBr',\n",
       "       'neighborhood_Timber', 'neighborhood_Veenker', 'bldg_type_2fmCon',\n",
       "       'bldg_type_Duplex', 'bldg_type_Twnhs', 'bldg_type_TwnhsE',\n",
       "       'house_style_1.5Unf', 'house_style_1Story', 'house_style_2.5Fin',\n",
       "       'house_style_2.5Unf', 'house_style_2Story', 'house_style_SFoyer',\n",
       "       'house_style_SLvl', 'foundation_CBlock', 'foundation_PConc',\n",
       "       'foundation_Slab', 'foundation_Stone', 'foundation_Wood',\n",
       "       'condition_1_Feedr', 'condition_1_Norm', 'condition_1_PosA',\n",
       "       'condition_1_PosN', 'condition_1_RRAe', 'condition_1_RRAn',\n",
       "       'condition_1_RRNe', 'condition_1_RRNn', 'condition_2_Norm',\n",
       "       'condition_2_PosA', 'bsmt_qual_Fa', 'bsmt_qual_Gd', 'bsmt_qual_Po',\n",
       "       'bsmt_qual_TA', 'bsmt_cond_Gd', 'bsmt_cond_TA', 'garage_type_Attchd',\n",
       "       'garage_type_Basment', 'garage_type_BuiltIn', 'garage_type_CarPort',\n",
       "       'garage_type_Detchd', 'kitchen_qual_Fa', 'kitchen_qual_Gd',\n",
       "       'kitchen_qual_Po', 'kitchen_qual_TA', 'condition_2_RRNn',\n",
       "       'bsmt_cond_Po', 'condition_2_RRAn', 'neighborhood_Landmrk',\n",
       "       'condition_2_Feedr', 'condition_2_PosN', 'bsmt_cond_Fa',\n",
       "       'condition_2_RRAe', 'neighborhood_GrnHill'],\n",
       "      dtype='object')"
      ]
     },
     "execution_count": 10,
     "metadata": {},
     "output_type": "execute_result"
    }
   ],
   "source": [
    "# take a look at the dummy columns to see if they match\n",
    "\n",
    "test_dummies.columns"
   ]
  },
  {
   "cell_type": "code",
   "execution_count": 11,
   "metadata": {},
   "outputs": [
    {
     "data": {
      "text/plain": [
       "(1926, 93)"
      ]
     },
     "execution_count": 11,
     "metadata": {},
     "output_type": "execute_result"
    }
   ],
   "source": [
    "house_dummies.shape"
   ]
  },
  {
   "cell_type": "code",
   "execution_count": 12,
   "metadata": {},
   "outputs": [
    {
     "data": {
      "text/plain": [
       "(878, 93)"
      ]
     },
     "execution_count": 12,
     "metadata": {},
     "output_type": "execute_result"
    }
   ],
   "source": [
    "test_dummies.shape"
   ]
  },
  {
   "cell_type": "code",
   "execution_count": 13,
   "metadata": {},
   "outputs": [],
   "source": [
    "## join the train and test dummy columns back with the original dataframes\n",
    "## add a polynomial feature with total_sf and overall_qual\n",
    "\n",
    "house_full = house.join(house_dummies)\n",
    "house_full['qual_sf'] = house_full['overall_qual'] * house_full['total_sf']\n",
    "\n",
    "test_full  = test.join(test_dummies)\n",
    "test_full['qual_sf'] = test_full['overall_qual'] * test_full['total_sf']\n",
    "\n",
    "## make sure the columns in `test` are in the same order as the column in `house`\n",
    "\n",
    "test_full = test_full[house_full.drop(columns = ['saleprice']).columns]"
   ]
  },
  {
   "cell_type": "code",
   "execution_count": 15,
   "metadata": {},
   "outputs": [
    {
     "data": {
      "text/plain": [
       "<Figure size 720x576 with 0 Axes>"
      ]
     },
     "metadata": {},
     "output_type": "display_data"
    },
    {
     "data": {
      "image/png": "[encoded data removed]",
      "text/plain": [
       "<Figure size 360x360 with 1 Axes>"
      ]
     },
     "metadata": {
      "needs_background": "light"
     },
     "output_type": "display_data"
    }
   ],
   "source": [
    "# plot the polynomial feature to sale price \n",
    "\n",
    "plt.figure(figsize = (10, 8))\n",
    "sns.lmplot('qual_sf', 'saleprice', house_full)\n",
    "plt.xlabel('Overall Quality * Total Sq Ft', size = 12)\n",
    "plt.ylabel('Sale Price ($)', size = 12)\n",
    "plt.savefig('../images/qual_sf.png');"
   ]
  },
  {
   "cell_type": "code",
   "execution_count": 16,
   "metadata": {},
   "outputs": [
    {
     "name": "stdout",
     "output_type": "stream",
     "text": [
      "(1926, 173)\n",
      "(878, 172)\n"
     ]
    }
   ],
   "source": [
    "# check the dataframes to see if the column numbers are correct\n",
    "\n",
    "print(house_full.shape)\n",
    "print(test_full.shape)"
   ]
  },
  {
   "cell_type": "code",
   "execution_count": 18,
   "metadata": {},
   "outputs": [],
   "source": [
    "# save the datasets\n",
    "\n",
    "house_full.to_csv('../datasets/train_df.csv')\n",
    "test_full.to_csv('../datasets/test_df.csv')"
   ]
  },
  {
   "cell_type": "code",
   "execution_count": null,
   "metadata": {},
   "outputs": [],
   "source": []
  }
 ],
 "metadata": {
  "kernelspec": {
   "display_name": "Python 3",
   "language": "python",
   "name": "python3"
  },
  "language_info": {
   "codemirror_mode": {
    "name": "ipython",
    "version": 3
   },
   "file_extension": ".py",
   "mimetype": "text/x-python",
   "name": "python",
   "nbconvert_exporter": "python",
   "pygments_lexer": "ipython3",
   "version": "3.7.7"
  }
 },
 "nbformat": 4,
 "nbformat_minor": 4
}
